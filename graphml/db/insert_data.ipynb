{
 "cells": [
  {
   "cell_type": "code",
   "execution_count": 29,
   "metadata": {},
   "outputs": [],
   "source": [
    "from arango import ArangoClient\n",
    "import srsly"
   ]
  },
  {
   "cell_type": "code",
   "execution_count": 30,
   "metadata": {},
   "outputs": [
    {
     "data": {
      "text/plain": [
       "['_system', 'deets']"
      ]
     },
     "execution_count": 30,
     "metadata": {},
     "output_type": "execute_result"
    }
   ],
   "source": [
    "# Initialize a client\n",
    "client = ArangoClient(hosts=\"http://localhost:8529\")\n",
    "sys_db = client.db(\"_system\", username=\"root\", password=\"toor\")\n",
    "sys_db.databases()"
   ]
  },
  {
   "cell_type": "code",
   "execution_count": 31,
   "metadata": {},
   "outputs": [
    {
     "data": {
      "text/plain": [
       "[{'id': '268830',\n",
       "  'name': '_graphs',\n",
       "  'system': True,\n",
       "  'type': 'document',\n",
       "  'status': 'loaded'},\n",
       " {'id': '268833',\n",
       "  'name': '_analyzers',\n",
       "  'system': True,\n",
       "  'type': 'document',\n",
       "  'status': 'loaded'},\n",
       " {'id': '268839',\n",
       "  'name': '_queues',\n",
       "  'system': True,\n",
       "  'type': 'document',\n",
       "  'status': 'loaded'},\n",
       " {'id': '268842',\n",
       "  'name': '_jobs',\n",
       "  'system': True,\n",
       "  'type': 'document',\n",
       "  'status': 'loaded'},\n",
       " {'id': '268845',\n",
       "  'name': '_apps',\n",
       "  'system': True,\n",
       "  'type': 'document',\n",
       "  'status': 'loaded'},\n",
       " {'id': '268836',\n",
       "  'name': '_aqlfunctions',\n",
       "  'system': True,\n",
       "  'type': 'document',\n",
       "  'status': 'loaded'},\n",
       " {'id': '268848',\n",
       "  'name': '_appbundles',\n",
       "  'system': True,\n",
       "  'type': 'document',\n",
       "  'status': 'loaded'},\n",
       " {'id': '268869',\n",
       "  'name': 'restaurants',\n",
       "  'system': False,\n",
       "  'type': 'document',\n",
       "  'status': 'loaded'},\n",
       " {'id': '268851',\n",
       "  'name': '_frontend',\n",
       "  'system': True,\n",
       "  'type': 'document',\n",
       "  'status': 'loaded'},\n",
       " {'id': '268854',\n",
       "  'name': '_pregel_queries',\n",
       "  'system': True,\n",
       "  'type': 'document',\n",
       "  'status': 'loaded'}]"
      ]
     },
     "execution_count": 31,
     "metadata": {},
     "output_type": "execute_result"
    }
   ],
   "source": [
    "sys_db.delete_database(\"deets\")\n",
    "sys_db.create_database(\"deets\")\n",
    "db = client.db(\"deets\", username=\"root\", password=\"toor\")\n",
    "db.create_collection(name=\"restaurants\")\n",
    "db.collections()"
   ]
  },
  {
   "cell_type": "code",
   "execution_count": 32,
   "metadata": {},
   "outputs": [],
   "source": [
    "# Get a reference to the 'patients' collection\n",
    "restaurants_collection = db.collection(name=\"restaurants\")"
   ]
  },
  {
   "cell_type": "code",
   "execution_count": 33,
   "metadata": {},
   "outputs": [],
   "source": [
    "restaurants_data = \"/Users/ikram.ali/workplace/projects/notebooks/db/download/restaurants.jsonl\""
   ]
  },
  {
   "cell_type": "code",
   "execution_count": 34,
   "metadata": {},
   "outputs": [],
   "source": [
    "for index,row in enumerate(srsly.read_jsonl(restaurants_data)):\n",
    "    insert_row = {\n",
    "        \"_key\": str(row[\"id\"]),\n",
    "        \"rid\": row[\"id\"],\n",
    "        \"name\": row[\"name\"].lower(),\n",
    "        \"cuisine\": row[\"cuisine\"].lower(),\n",
    "        \"price_range\": row[\"price_range\"],\n",
    "        \"neighborhood\": row[\"neighborhood\"].lower(),\n",
    "        \"city\": row[\"city\"].lower(),\n",
    "        \"google_rating\": row[\"google_rating\"],\n",
    "\n",
    "    }\n",
    "    restaurants_collection.insert(insert_row)"
   ]
  },
  {
   "cell_type": "code",
   "execution_count": null,
   "metadata": {},
   "outputs": [],
   "source": []
  },
  {
   "cell_type": "code",
   "execution_count": null,
   "metadata": {},
   "outputs": [],
   "source": []
  }
 ],
 "metadata": {
  "kernelspec": {
   "display_name": "graph",
   "language": "python",
   "name": "python3"
  },
  "language_info": {
   "codemirror_mode": {
    "name": "ipython",
    "version": 3
   },
   "file_extension": ".py",
   "mimetype": "text/x-python",
   "name": "python",
   "nbconvert_exporter": "python",
   "pygments_lexer": "ipython3",
   "version": "3.11.4"
  },
  "orig_nbformat": 4
 },
 "nbformat": 4,
 "nbformat_minor": 2
}
