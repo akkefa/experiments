{
 "cells": [
  {
   "cell_type": "code",
   "execution_count": 1,
   "metadata": {},
   "outputs": [],
   "source": [
    "from arango import ArangoClient\n",
    "import srsly"
   ]
  },
  {
   "cell_type": "code",
   "execution_count": 3,
   "metadata": {},
   "outputs": [],
   "source": [
    "client = ArangoClient(hosts=\"http://localhost:8529\")\n",
    "db = client.db(\"deets\", username=\"root\", password=\"toor\")\n"
   ]
  },
  {
   "cell_type": "code",
   "execution_count": 4,
   "metadata": {},
   "outputs": [
    {
     "name": "stdout",
     "output_type": "stream",
     "text": [
      "{'_key': '1', '_id': 'restaurants/1', '_rev': '_gWMqU_2---', 'rid': 1, 'name': '[fomu]', 'cuisine': 'ice cream shop', 'price_range': '$$', 'neighborhood': 'allston', 'city': 'boston', 'google_rating': 4.5}\n",
      "{'_key': '2', '_id': 'restaurants/2', '_rev': '_gWMqUAC---', 'rid': 2, 'name': '@union', 'cuisine': 'brunch', 'price_range': '$', 'neighborhood': 'allston', 'city': 'boston', 'google_rating': 4.3}\n"
     ]
    }
   ],
   "source": [
    "# Run a query\n",
    "query = \"\"\"\n",
    "FOR row IN restaurants\n",
    "    limit 2\n",
    "    RETURN row\n",
    "\"\"\"\n",
    "\n",
    "cursor = db.aql.execute(query)\n",
    "\n",
    "for doc in cursor:\n",
    "  print(doc)\n"
   ]
  },
  {
   "cell_type": "code",
   "execution_count": 6,
   "metadata": {},
   "outputs": [
    {
     "name": "stdout",
     "output_type": "stream",
     "text": [
      "!crave burger cafe and cigars\n",
      "¡ay güey! cafe & cocina mexicana\n",
      "¡ole!\n",
      "¡que chimba!\n",
      "¡que! fresa\n",
      "¡salud tacos!\n",
      "¡una mas! modern taqueria-margaritas\n",
      "¡viva zapata! mexican resturant\n",
      "? ????? ?? ?????\n",
      "? beckham's sarasota bar & grill\n"
     ]
    }
   ],
   "source": [
    "query = \"\"\"\n",
    "FOR c IN restaurants\n",
    "    SORT c.name\n",
    "    LIMIT 10\n",
    "    RETURN c.name\n",
    "\"\"\"\n",
    "\n",
    "cursor = db.aql.execute(query)\n",
    "\n",
    "for doc in cursor:\n",
    "  print(doc)"
   ]
  },
  {
   "cell_type": "code",
   "execution_count": null,
   "metadata": {},
   "outputs": [],
   "source": []
  }
 ],
 "metadata": {
  "kernelspec": {
   "display_name": "graph",
   "language": "python",
   "name": "python3"
  },
  "language_info": {
   "codemirror_mode": {
    "name": "ipython",
    "version": 3
   },
   "file_extension": ".py",
   "mimetype": "text/x-python",
   "name": "python",
   "nbconvert_exporter": "python",
   "pygments_lexer": "ipython3",
   "version": "3.11.4"
  },
  "orig_nbformat": 4
 },
 "nbformat": 4,
 "nbformat_minor": 2
}
